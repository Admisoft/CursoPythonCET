{
  "cells": [
    {
      "cell_type": "markdown",
      "metadata": {
        "id": "5NTY9goar3sN"
      },
      "source": [
        "#CURSO FUNDAMENTOS EN LENGUAJES DE PROGRAMACIÓN\n",
        " CET COLSUBSIDIO  \n",
        " Prof. Dagoberto"
      ]
    },
    {
      "cell_type": "markdown",
      "source": [
        "#INPUT\n",
        "14/03/21\n",
        "\n",
        "  "
      ],
      "metadata": {
        "id": "MuwFLR8hDr2d"
      }
    },
    {
      "cell_type": "code",
      "execution_count": 3,
      "metadata": {
        "id": "kpQE_Zsawz9U",
        "colab": {
          "base_uri": "https://localhost:8080/"
        },
        "outputId": "d2324194-0ff0-455f-f279-96c29f6b83f3"
      },
      "outputs": [
        {
          "output_type": "stream",
          "name": "stdout",
          "text": [
            "Nombre: MARCO\n",
            "Apellidos: MENESES\n",
            "Dirección: CRA 102 NRO 154-30\n",
            "Telefono3186882858\n",
            "Edad: 58\n",
            "Edo.Civil: CASADO\n",
            "Nrp. Hijos: 8\n",
            "Estatura en Cm: 175\n",
            "Fecha Contratación: 01/03/1983\n",
            "Sueldo: 1500000\n",
            "\n",
            "DATOS PERSONALES\n",
            "----------------\n",
            "MARCO MENESES\n",
            "Dirección: CRA 102 NRO 154-30\n",
            "Teléfono: 3186882858\n",
            "\n",
            "Edad Actual:  58\n",
            "Estado Civil:  CASADO\n",
            "Número Hijos:  8\n",
            "Estatura Cm:  175\n",
            "\n",
            "Días Laborados: 25\n",
            "LIQUIDACIÓN DE SUELDO DE MARCO MENESES\n",
            "----------------------\n",
            "Fecha Contratación:  01/03/1983\n",
            "Sueldo Básico: $1.500.000,00\n",
            "--------------------\n"
          ]
        }
      ],
      "source": [
        "Nombres = input(\"Nombre: \")\n",
        "Apellidos = input(\"Apellidos: \")\n",
        "Dirección = input(\"Dirección: \")\n",
        "Teléfono  = input(\"Telefono\")\n",
        "Edad      = int(input(\"Edad: \"))\n",
        "EstadoCivil = input(\"Edo.Civil: \")\n",
        "NúmeroHijos = int(input(\"Nrp. Hijos: \"))\n",
        "EstaturaCm  = int(input(\"Estatura en Cm: \"))\n",
        "FechaCon    = input(\"Fecha Contratación: \")\n",
        "SueldoBas   = float(input(\"Sueldo: \"))\n",
        "\n",
        "print()\n",
        "print(\"DATOS PERSONALES\")\n",
        "print(\"-\" * 16)\n",
        "print(Nombres.upper() + \" \" + Apellidos.upper())\n",
        "print(\"Dirección: \" + Dirección)\n",
        "print(\"Teléfono: \" + Teléfono)\n",
        "print()\n",
        "print(\"Edad Actual: \", Edad)\n",
        "print(\"Estado Civil: \", EstadoCivil)\n",
        "print(\"Número Hijos: \", NúmeroHijos)\n",
        "print(\"Estatura Cm: \", EstaturaCm)\n",
        "print()\n",
        "DiasLab = int(input(\"Días Laborados: \"))\n",
        "Neto = ((SueldoBas / 30) * DiasLab)\n",
        "\n",
        "print('LIQUIDACIÓN DE SUELDO DE ' + Nombres.upper() + \" \" + Apellidos.upper()) \n",
        "print(\"-\" * 22)\n",
        "print(\"Fecha Contratación: \",FechaCon)\n",
        "print('Sueldo Básico: ${:,.2f}'.format(SueldoBas).replace(\",\", \"@\").replace(\".\", \",\").replace(\"@\", \".\"))\n",
        "print(\"-\" * 20)\n"
      ]
    },
    {
      "cell_type": "markdown",
      "source": [
        "# CONDICIONALES\n",
        "15/3/2023"
      ],
      "metadata": {
        "id": "f57DhIp1pRHM"
      }
    },
    {
      "cell_type": "markdown",
      "source": [],
      "metadata": {
        "id": "IV7_tUkIChCC"
      }
    },
    {
      "cell_type": "markdown",
      "source": [
        "Dando continuidad con la primera entrega del proyecto, en esta oportunidad el estudiante debe realizar las siguientes validaciones utilizando la sentencia condicional IF."
      ],
      "metadata": {
        "id": "m3od-FTACa8R"
      }
    },
    {
      "cell_type": "code",
      "source": [
        "#Requiere ejecutar el codigo anterior\n",
        "#Si el empleado es mayor de 55 años disfrutará de un bono de prepensión correspondiente al 5% de su sueldo básico.\n",
        "\n",
        "#Bono de pensión\n",
        "if Edad > 55:\n",
        "  BonoPension = SueldoBas * .05\n",
        "  print('Bono de pensión:${:,.2f}'.format(BonoPension).replace(\",\", \"@\").replace(\".\", \",\").replace(\"@\", \".\"))\n",
        "\n",
        "#Bono de paseo en diciembre\n",
        "#Si el empleado es casado y tiene hijos se le otorgará un paseo cada diciembre\n",
        "\n",
        "if NúmeroHijos:\n",
        "  PaseoDic = True\n",
        "  print('Con derecho a bono de paseo en diciembre')\n",
        "\n",
        "#Comisión Sobre el valor del sueldo\n",
        "#Si el sueldo básico está entre 1000000 y 1500000 tendrá una comisión del 2% sobre el valor del sueldo; \n",
        "#Si el sueldo básico está entre 1500001 y 2000000 tendrá una comisión del 5% sobre el valor del sueldo; \n",
        "#para todos los demás casos no habrá comisión.\n",
        "\n",
        "ComisionSue = 0 \n",
        "if (SueldoBas >= 1000000) and (SueldoBas <= 1500000): \n",
        "  ComisionSue = SueldoBas * .02\n",
        "elif (SueldoBas >= 1500001) and (SueldoBas <= 2000000):\n",
        "  ComisionSue = SueldoBas * .05 \n",
        "\n",
        "print('Comisión sobre el valor del sueldo: ${:,.2f}'.format(ComisionSue).replace(\",\", \"@\").replace(\".\", \",\").replace(\"@\", \".\"))\n",
        "\n",
        "#Bono de alimentación\n",
        "#Si el empleado trabajó más de 20 días al mes y su sueldo es menor a 1000000 \n",
        "#tendrá derecho a un bono de alimentación.\n",
        "\n",
        "if (SueldoBas < 1000000) and (DiasLab  > 20):\n",
        "  BonoAlim = True  \n",
        "  print('Con derecho Bono de alimentación')\n",
        "Total = (SueldoBas + BonoPension + ComisionSue)\n",
        "print(\"-\" * 20)\n",
        "print('SUELDO TOTAL: ${:,.2f}'.format(Total).replace(\",\", \"@\").replace(\".\", \",\").replace(\"@\", \".\"))"
      ],
      "metadata": {
        "colab": {
          "base_uri": "https://localhost:8080/"
        },
        "id": "9mhhQkxwpIQz",
        "outputId": "a5069419-e213-45a5-87e8-1cafcd52a759"
      },
      "execution_count": 4,
      "outputs": [
        {
          "output_type": "stream",
          "name": "stdout",
          "text": [
            "Bono de pensión:$75.000,00\n",
            "Con derecho a bono de paseo en diciembre\n",
            "Comisión sobre el valor del sueldo: $30.000,00\n",
            "--------------------\n",
            "SUELDO TOTAL: $1.605.000,00\n"
          ]
        }
      ]
    },
    {
      "cell_type": "markdown",
      "source": [
        "# CICLOS REPETITIVOS\n",
        "\n",
        "Clase"
      ],
      "metadata": {
        "id": "bUFfAr8mnCEN"
      }
    },
    {
      "cell_type": "code",
      "source": [
        "for w in [1234]:\n",
        "  print(w)"
      ],
      "metadata": {
        "id": "9wH0-3A9ntt2",
        "colab": {
          "base_uri": "https://localhost:8080/"
        },
        "outputId": "f43b03d9-9e79-4d42-8f60-adfb5671422a"
      },
      "execution_count": 5,
      "outputs": [
        {
          "output_type": "stream",
          "name": "stdout",
          "text": [
            "1234\n"
          ]
        }
      ]
    },
    {
      "cell_type": "code",
      "source": [
        "for w in (1,2,3,4):\n",
        "  print(w)"
      ],
      "metadata": {
        "id": "D_v3PgXDoqwT",
        "colab": {
          "base_uri": "https://localhost:8080/"
        },
        "outputId": "a4c3fb48-5251-4f8b-dd1c-ee4f7cdea75c"
      },
      "execution_count": 6,
      "outputs": [
        {
          "output_type": "stream",
          "name": "stdout",
          "text": [
            "1\n",
            "2\n",
            "3\n",
            "4\n"
          ]
        }
      ]
    },
    {
      "cell_type": "code",
      "source": [
        "for w in \"1,2,3,4\":\n",
        "  print(w)"
      ],
      "metadata": {
        "id": "zWSxnG8Vov4E",
        "colab": {
          "base_uri": "https://localhost:8080/"
        },
        "outputId": "a9e5d7a6-0582-4c65-a449-fd53b7da486c"
      },
      "execution_count": 7,
      "outputs": [
        {
          "output_type": "stream",
          "name": "stdout",
          "text": [
            "1\n",
            ",\n",
            "2\n",
            ",\n",
            "3\n",
            ",\n",
            "4\n"
          ]
        }
      ]
    },
    {
      "cell_type": "code",
      "source": [
        "for w in \"Dagoberto\":\n",
        "  print(w)"
      ],
      "metadata": {
        "id": "GlC4KM26ozGj",
        "colab": {
          "base_uri": "https://localhost:8080/"
        },
        "outputId": "af86e38c-bad6-47d3-b256-2d04f669610e"
      },
      "execution_count": 8,
      "outputs": [
        {
          "output_type": "stream",
          "name": "stdout",
          "text": [
            "D\n",
            "a\n",
            "g\n",
            "o\n",
            "b\n",
            "e\n",
            "r\n",
            "t\n",
            "o\n"
          ]
        }
      ]
    },
    {
      "cell_type": "code",
      "source": [
        "for i in range(0,11,2):\n",
        "  print(i)"
      ],
      "metadata": {
        "id": "AShPfwWRo2Tu",
        "colab": {
          "base_uri": "https://localhost:8080/"
        },
        "outputId": "3ea2ea97-ba9a-44a8-b20f-4238ff63c560"
      },
      "execution_count": 9,
      "outputs": [
        {
          "output_type": "stream",
          "name": "stdout",
          "text": [
            "0\n",
            "2\n",
            "4\n",
            "6\n",
            "8\n",
            "10\n"
          ]
        }
      ]
    },
    {
      "cell_type": "code",
      "source": [
        "for i in range(5,-11,-1):\n",
        "  print(i)"
      ],
      "metadata": {
        "id": "cjM4WP_Do5Gq"
      },
      "execution_count": null,
      "outputs": []
    },
    {
      "cell_type": "code",
      "source": [
        "nombre = input(\"Digite su nombre: \")\n",
        "\n",
        "for i in range(6):\n",
        "  print(i, nombre)"
      ],
      "metadata": {
        "id": "vfdAKoEXo8w0",
        "colab": {
          "base_uri": "https://localhost:8080/"
        },
        "outputId": "244ecfd8-31f9-4cdc-a33b-df60178957e9"
      },
      "execution_count": 11,
      "outputs": [
        {
          "output_type": "stream",
          "name": "stdout",
          "text": [
            "Digite su nombre: MARCO\n",
            "0 MARCO\n",
            "1 MARCO\n",
            "2 MARCO\n",
            "3 MARCO\n",
            "4 MARCO\n",
            "5 MARCO\n"
          ]
        }
      ]
    },
    {
      "cell_type": "code",
      "source": [
        "num = int(input(\"Digite el número de la tabla de multiplicar: \"))\n",
        "\n",
        "for i in range(11):\n",
        "  print(i, \" x \", num, \" = \", i * num)"
      ],
      "metadata": {
        "id": "PgypdAYhpB-V",
        "colab": {
          "base_uri": "https://localhost:8080/"
        },
        "outputId": "a34ab037-e409-4cc6-9dc5-19c2eb57c277"
      },
      "execution_count": 12,
      "outputs": [
        {
          "output_type": "stream",
          "name": "stdout",
          "text": [
            "Digite el número de la tabla de multiplicar: 25\n",
            "0  x  25  =  0\n",
            "1  x  25  =  25\n",
            "2  x  25  =  50\n",
            "3  x  25  =  75\n",
            "4  x  25  =  100\n",
            "5  x  25  =  125\n",
            "6  x  25  =  150\n",
            "7  x  25  =  175\n",
            "8  x  25  =  200\n",
            "9  x  25  =  225\n",
            "10  x  25  =  250\n"
          ]
        }
      ]
    },
    {
      "cell_type": "code",
      "source": [
        "# variables acumuladoras\n",
        "acu = 0\n",
        "\n",
        "for i in range(0,11,2):\n",
        "  # print(i)\n",
        "  acu += i\n",
        "print(f\"EL total de la suma de los números pares del 0-10 es= {acu}\")"
      ],
      "metadata": {
        "id": "7wBeXPZ8pFEu",
        "colab": {
          "base_uri": "https://localhost:8080/"
        },
        "outputId": "ee3434e8-faa9-4b46-cb86-7454ddd05feb"
      },
      "execution_count": 13,
      "outputs": [
        {
          "output_type": "stream",
          "name": "stdout",
          "text": [
            "EL total de la suma de los números pares del 0-10 es= 30\n"
          ]
        }
      ]
    },
    {
      "cell_type": "code",
      "source": [
        "x = 0\n",
        "while x <= 10:\n",
        "  print(x)\n",
        "  x += 1"
      ],
      "metadata": {
        "id": "3KfMr39BpIDC",
        "colab": {
          "base_uri": "https://localhost:8080/"
        },
        "outputId": "66ed6411-ebc1-4e33-a51a-98c6c0c21026"
      },
      "execution_count": 14,
      "outputs": [
        {
          "output_type": "stream",
          "name": "stdout",
          "text": [
            "0\n",
            "1\n",
            "2\n",
            "3\n",
            "4\n",
            "5\n",
            "6\n",
            "7\n",
            "8\n",
            "9\n",
            "10\n"
          ]
        }
      ]
    },
    {
      "cell_type": "code",
      "source": [
        "x = 7\n",
        "while x >= 5:\n",
        "  print(x)\n",
        "  x = x - 1"
      ],
      "metadata": {
        "id": "8inleWA3pLVv",
        "colab": {
          "base_uri": "https://localhost:8080/"
        },
        "outputId": "5a9f1287-3668-42ad-8396-c5438733b341"
      },
      "execution_count": 15,
      "outputs": [
        {
          "output_type": "stream",
          "name": "stdout",
          "text": [
            "7\n",
            "6\n",
            "5\n"
          ]
        }
      ]
    },
    {
      "cell_type": "code",
      "source": [
        "x = 0\n",
        "while x <= 15:\n",
        "  x += 3\n",
        "  print(x)\n"
      ],
      "metadata": {
        "id": "FXDRrgQZpRMp",
        "colab": {
          "base_uri": "https://localhost:8080/"
        },
        "outputId": "ba607d27-9433-4605-ca68-3e31cea8244b"
      },
      "execution_count": 16,
      "outputs": [
        {
          "output_type": "stream",
          "name": "stdout",
          "text": [
            "3\n",
            "6\n",
            "9\n",
            "12\n",
            "15\n",
            "18\n"
          ]
        }
      ]
    },
    {
      "cell_type": "code",
      "source": [
        "resp = \"si\"\n",
        "while resp == \"si\" or resp == \"SI\" or resp == \"s\":\n",
        "  a = 5\n",
        "  b = 100\n",
        "  c = 10\n",
        "\n",
        "  while a * c < b:\n",
        "    a = a + 5\n",
        "    c = c - 1\n",
        "  print(\"a={}, b={}, c={}\".format(a,b,c))\n",
        "  resp = input(\"¿Desea realizarlo de nuevo?(si/no)\")"
      ],
      "metadata": {
        "id": "RaIZP0jNpXSL",
        "colab": {
          "base_uri": "https://localhost:8080/"
        },
        "outputId": "f032a970-0ddd-4da6-aa6b-008e9ab5d707"
      },
      "execution_count": 17,
      "outputs": [
        {
          "name": "stdout",
          "output_type": "stream",
          "text": [
            "a=15, b=100, c=8\n",
            "¿Desea realizarlo de nuevo?(si/no)N\n"
          ]
        }
      ]
    },
    {
      "cell_type": "markdown",
      "source": [
        "EJERCICIOS DE TAREA\n",
        "1. Se requiere un sw que calcule promedio de tres materia, si es >= 3.0 el estado es Aprueba sino Reprueba, el sistema debe preguntar si desea realizar el caluculo de nuevo, en el que caso de que la respuesta sea afirmativa lo debe realizar de nuevo"
      ],
      "metadata": {
        "id": "sHSKmfa3pksU"
      }
    },
    {
      "cell_type": "code",
      "source": [
        "resp = \"si\"\n",
        "while resp == \"si\" or resp == \"s\" or resp == \"SI\" or resp == \"yes\":\n",
        "  cal1 = float(input(\"Digite la calificación 1: \"))\n",
        "  cal2 = float(input(\"Digite la calificación 2: \"))\n",
        "  cal3 = float(input(\"Digite la calificación 3: \"))\n",
        "\n",
        "  prom = round((cal1 + cal2 + cal3)/3, 2)\n",
        "\n",
        "  if prom >= 3.0:\n",
        "    estado = \"Aprueba++\"\n",
        "  else:\n",
        "    estado = \"Reprueba--\"\n",
        "  print(f\"El promedio es= {prom} y el estado es= {estado}\")\n",
        "  resp = input(\"¿Desea ingresar otras 3 calificaciones?\")"
      ],
      "metadata": {
        "id": "4fufG5g2pf5w",
        "colab": {
          "base_uri": "https://localhost:8080/"
        },
        "outputId": "e0cdd270-d78e-466e-cc14-49337641a482"
      },
      "execution_count": 18,
      "outputs": [
        {
          "name": "stdout",
          "output_type": "stream",
          "text": [
            "Digite la calificación 1: 5\n",
            "Digite la calificación 2: 2.5\n",
            "Digite la calificación 3: 3.5\n",
            "El promedio es= 3.67 y el estado es= Aprueba++\n",
            "¿Desea ingresar otras 3 calificaciones?N\n"
          ]
        }
      ]
    },
    {
      "cell_type": "markdown",
      "source": [
        "1. Se necesita un sistema que despliega una tabla de\n",
        "multiplicar de un número dado por el usuario. ciclo for"
      ],
      "metadata": {
        "id": "UHPr3UTwp0DL"
      }
    },
    {
      "cell_type": "code",
      "source": [
        "num = int(input(\"Digite el número de la tabla de multiplicar: \"))\n",
        "\n",
        "for i in range(11):\n",
        "  print(i, \" x \", num, \" = \", i * num)"
      ],
      "metadata": {
        "id": "z8unqjIwuEFy",
        "colab": {
          "base_uri": "https://localhost:8080/"
        },
        "outputId": "2870a16c-e77e-4fa1-fe5e-29b520457cd8"
      },
      "execution_count": 19,
      "outputs": [
        {
          "output_type": "stream",
          "name": "stdout",
          "text": [
            "Digite el número de la tabla de multiplicar: 5\n",
            "0  x  5  =  0\n",
            "1  x  5  =  5\n",
            "2  x  5  =  10\n",
            "3  x  5  =  15\n",
            "4  x  5  =  20\n",
            "5  x  5  =  25\n",
            "6  x  5  =  30\n",
            "7  x  5  =  35\n",
            "8  x  5  =  40\n",
            "9  x  5  =  45\n",
            "10  x  5  =  50\n"
          ]
        }
      ]
    },
    {
      "cell_type": "markdown",
      "source": [
        "2. Se necesita un sistema que pida un sueldo de un\n",
        "trabajador, si el sueldo es mayor a 655000, no tedrá\n",
        "ninguna bonificación, pero si es menor tiene bonificación\n",
        "del 4%. Al final se desea saber el total del sueldo con\n",
        "o sin bonificación. Preguntar si desea ejecutar de nuevo\n",
        "el programa con el ciclo while."
      ],
      "metadata": {
        "id": "7510wsGip2D9"
      }
    },
    {
      "cell_type": "code",
      "source": [
        "resp = \"si\"\n",
        "while resp == \"si\" or resp == \"s\" or resp == \"SI\" or resp == \"yes\":\n",
        "  Sueldo = float(input(\"Ingrese el monto del sueldo: \"))\n",
        "\n",
        "  if Sueldo >= 655000:\n",
        "    Bono = 0\n",
        "  else:\n",
        "    Bono = Sueldo * .04\n",
        "\n",
        "  if Bono > 0:\n",
        "    print(f\"El bono a recibir es = ${Bono} \")\n",
        "\n",
        "  if not Bono:\n",
        "    print(\"No tiene derecho a bonificación\")\n",
        "\n",
        "  resp = input(\"¿Desea calcular bono para otro sueldo?\")"
      ],
      "metadata": {
        "id": "V5iqIg_Hudgr",
        "colab": {
          "base_uri": "https://localhost:8080/"
        },
        "outputId": "dc567b34-cb10-4ae3-9531-d4f5df63e713"
      },
      "execution_count": 21,
      "outputs": [
        {
          "name": "stdout",
          "output_type": "stream",
          "text": [
            "Ingrese el monto del sueldo: 458000\n",
            "El bono a recibir es = $18320.0 \n",
            "¿Desea calcular bono para otro sueldo?N\n"
          ]
        }
      ]
    },
    {
      "cell_type": "markdown",
      "source": [
        "3. Un maestro necesita un sistema para capturar las\n",
        "calificaciones de 5 parciales de sus alumnos, después\n",
        "recapturarlas necesita que se despliegue el promedio,\n",
        "cuando ya no quiera capturar más alumnos, necesita que\n",
        "se despliegue el promedio general de todos los alumnos\n",
        "capturados. Preguntar si desea ejecutar de nuevo el\n",
        "programa con el ciclo while."
      ],
      "metadata": {
        "id": "xOGtfxewp53s"
      }
    },
    {
      "cell_type": "code",
      "source": [
        "resp = \"si\"\n",
        "TotalAlum = 0\n",
        "TotalProm = 0\n",
        "\n",
        "while resp == \"si\" or resp == \"s\" or resp == \"S\" or resp == \"SI\" or resp == \"yes\":\n",
        "  cal1 = float(input(\"Digite la calificación 1: \"))\n",
        "  cal2 = float(input(\"Digite la calificación 2: \"))\n",
        "  cal3 = float(input(\"Digite la calificación 3: \"))\n",
        "  \n",
        "  prom = round((cal1 + cal2 + cal3)/3, 2)\n",
        "\n",
        "  TotalAlum += 1\n",
        "  TotalProm += prom\n",
        "\n",
        "  if prom >= 3.0:\n",
        "    estado = \"Aprueba++\"\n",
        "  else:\n",
        "    estado = \"Reprueba--\"\n",
        "  print(f\"El promedio es= {prom} y el estado es= {estado}\")\n",
        "  resp = input(\"¿Desea ingresar otras 3 calificaciones?\")\n",
        "  TotalFinal = round((TotalProm/TotalAlum),2)\n",
        "\n",
        "  print(f\"El promedio final del curso es: {TotalFinal}\")"
      ],
      "metadata": {
        "id": "Kquc3aaK0p5Q",
        "colab": {
          "base_uri": "https://localhost:8080/"
        },
        "outputId": "66b1c6f2-e826-49df-fe27-2db84a9b0fb6"
      },
      "execution_count": 24,
      "outputs": [
        {
          "output_type": "stream",
          "name": "stdout",
          "text": [
            "Digite la calificación 1: 5\n",
            "Digite la calificación 2: 3.5\n",
            "Digite la calificación 3: 2.5\n",
            "El promedio es= 3.67 y el estado es= Aprueba++\n",
            "¿Desea ingresar otras 3 calificaciones?s\n",
            "El promedio final del curso es: 3.67\n",
            "Digite la calificación 1: 4.5\n",
            "Digite la calificación 2: 3.6\n",
            "Digite la calificación 3: 2.8\n",
            "El promedio es= 3.63 y el estado es= Aprueba++\n",
            "¿Desea ingresar otras 3 calificaciones?n\n",
            "El promedio final del curso es: 3.65\n"
          ]
        }
      ]
    },
    {
      "cell_type": "markdown",
      "source": [
        "4. Crear un bucle que cuente todos los números pares hasta\n",
        "el 100 ciclo for"
      ],
      "metadata": {
        "id": "Nc8A3GO1qAgg"
      }
    },
    {
      "cell_type": "code",
      "source": [
        "x = 0\n",
        "while x <= 101:\n",
        "  if x % 2 == 0:\n",
        "    print(x)\n",
        "  x += 1"
      ],
      "metadata": {
        "id": "xcnfo2nr5vYW",
        "colab": {
          "base_uri": "https://localhost:8080/"
        },
        "outputId": "d5036c34-7fc6-4f65-8224-c5da9f508915"
      },
      "execution_count": 25,
      "outputs": [
        {
          "output_type": "stream",
          "name": "stdout",
          "text": [
            "0\n",
            "2\n",
            "4\n",
            "6\n",
            "8\n",
            "10\n",
            "12\n",
            "14\n",
            "16\n",
            "18\n",
            "20\n",
            "22\n",
            "24\n",
            "26\n",
            "28\n",
            "30\n",
            "32\n",
            "34\n",
            "36\n",
            "38\n",
            "40\n",
            "42\n",
            "44\n",
            "46\n",
            "48\n",
            "50\n",
            "52\n",
            "54\n",
            "56\n",
            "58\n",
            "60\n",
            "62\n",
            "64\n",
            "66\n",
            "68\n",
            "70\n",
            "72\n",
            "74\n",
            "76\n",
            "78\n",
            "80\n",
            "82\n",
            "84\n",
            "86\n",
            "88\n",
            "90\n",
            "92\n",
            "94\n",
            "96\n",
            "98\n",
            "100\n"
          ]
        }
      ]
    },
    {
      "cell_type": "markdown",
      "source": [
        "5. Haz una tabla de multiplicar utilizando el ciclo for\n",
        "ciclo for"
      ],
      "metadata": {
        "id": "OFSzQ2hGqOXI"
      }
    },
    {
      "cell_type": "code",
      "source": [
        "for a in range(1,9,1):\n",
        "  b = 0\n",
        "  for b in range(0,10,1):\n",
        "    print(a, \" x \", b, \" = \", a * b)\n"
      ],
      "metadata": {
        "id": "Sk4d4YOr9AAP"
      },
      "execution_count": null,
      "outputs": []
    },
    {
      "cell_type": "markdown",
      "source": [
        "6. Escribir un programa que pregunte al usuario su edad y\n",
        "muestre por pantalla todos los años que ha cumplido\n",
        "(desde 1 hasta su edad). ciclo for"
      ],
      "metadata": {
        "id": "MOR0qkOeqUlr"
      }
    },
    {
      "cell_type": "code",
      "source": [
        "edad = int(input(\"Digite su edad: \"))\n",
        "\n",
        "for i in range(1,edad + 1,1):\n",
        "  print(i)"
      ],
      "metadata": {
        "id": "5zqM3C7-Bjdb",
        "colab": {
          "base_uri": "https://localhost:8080/"
        },
        "outputId": "e88efb6b-5841-46d2-92a1-16b9f34e9ce2"
      },
      "execution_count": 27,
      "outputs": [
        {
          "output_type": "stream",
          "name": "stdout",
          "text": [
            "Digite su edad: 58\n",
            "1\n",
            "2\n",
            "3\n",
            "4\n",
            "5\n",
            "6\n",
            "7\n",
            "8\n",
            "9\n",
            "10\n",
            "11\n",
            "12\n",
            "13\n",
            "14\n",
            "15\n",
            "16\n",
            "17\n",
            "18\n",
            "19\n",
            "20\n",
            "21\n",
            "22\n",
            "23\n",
            "24\n",
            "25\n",
            "26\n",
            "27\n",
            "28\n",
            "29\n",
            "30\n",
            "31\n",
            "32\n",
            "33\n",
            "34\n",
            "35\n",
            "36\n",
            "37\n",
            "38\n",
            "39\n",
            "40\n",
            "41\n",
            "42\n",
            "43\n",
            "44\n",
            "45\n",
            "46\n",
            "47\n",
            "48\n",
            "49\n",
            "50\n",
            "51\n",
            "52\n",
            "53\n",
            "54\n",
            "55\n",
            "56\n",
            "57\n",
            "58\n"
          ]
        }
      ]
    },
    {
      "cell_type": "markdown",
      "source": [],
      "metadata": {
        "id": "My_J8wv6qX-j"
      }
    },
    {
      "cell_type": "markdown",
      "source": [
        "# SENTENCIAS CONDICIONALES EN PYTHON"
      ],
      "metadata": {
        "id": "bjVEAMQptw6_"
      }
    },
    {
      "cell_type": "code",
      "source": [
        "num1 = 5\n",
        "num2 = 5\n",
        "\n",
        "if num1 == num2:\n",
        "  print(\"Los números son iguales\")\n",
        "else:\n",
        "  print(\"Los números NO son iguales\")"
      ],
      "metadata": {
        "id": "0j7jmVeat5y6"
      },
      "execution_count": null,
      "outputs": []
    },
    {
      "cell_type": "markdown",
      "source": [
        "OPERADORES RELACIONAES\n",
        "\n",
        "> mayor que, < menor que, >= mayor o igual que, <= menor o igual que, == igual que, != diferente que,ambos debe ser iguales and, uno de los debe ser verdadero or, in texto inmerso en otro"
      ],
      "metadata": {
        "id": "xOVKKDyDt9ZH"
      }
    },
    {
      "cell_type": "code",
      "source": [
        "num = int(input(\"Digite el número: \"))\n",
        "\n",
        "if num > 20:\n",
        "  print(\"El número es mayor a 20\")\n",
        "elif num > 15:\n",
        "  print(\"El número es mayor a 15\")\n",
        "elif num > 10:\n",
        "  print(\"El número es mayor a 10\")\n",
        "elif num > 5:\n",
        "  print(\"El número es mayor a 5\")\n",
        "else:\n",
        "  print(\"No se cumple ninguna condición\")"
      ],
      "metadata": {
        "colab": {
          "base_uri": "https://localhost:8080/"
        },
        "id": "4bDpg31ouObm",
        "outputId": "708b8799-634a-4b08-fc09-4e042b668fb1"
      },
      "execution_count": 28,
      "outputs": [
        {
          "output_type": "stream",
          "name": "stdout",
          "text": [
            "Digite el número: 15\n",
            "El número es mayor a 10\n"
          ]
        }
      ]
    },
    {
      "cell_type": "code",
      "source": [
        "usuario = input(\"Digite su usario: \")\n",
        "\n",
        "if usuario == \"carlos19\":\n",
        "  print(\"Usuario correcto!\")\n",
        "else:\n",
        "  print(\"Ususario incorrecto\")"
      ],
      "metadata": {
        "id": "-Y1BOyvUuVib"
      },
      "execution_count": null,
      "outputs": []
    },
    {
      "cell_type": "code",
      "source": [
        "edad = int(input(\"Digite su edad: \"))\n",
        "\n",
        "if edad >= 13 and edad < 20:\n",
        "  print(\"Eres un Adolescente\")\n",
        "else:\n",
        "  print(\"No eres un Adolescente\")"
      ],
      "metadata": {
        "id": "P3e4rXDWuYU5"
      },
      "execution_count": null,
      "outputs": []
    },
    {
      "cell_type": "code",
      "source": [
        "palabra = input(\"Digite la palabra: \")\n",
        "\n",
        "if palabra != \"google\":\n",
        "  print(\"Diferente!!\")\n",
        "else:\n",
        "  print(\"Es igual!!!\")"
      ],
      "metadata": {
        "id": "aIGs-S82ua0S"
      },
      "execution_count": null,
      "outputs": []
    },
    {
      "cell_type": "code",
      "source": [
        "palabra = input(\"Digite la palabra: \")\n",
        "\n",
        "if palabra != \"google\":\n",
        "  print(\"Diferente!!\")\n",
        "else:\n",
        "  print(\"Es igual!!!\")"
      ],
      "metadata": {
        "id": "aIhAQqRSuhC1"
      },
      "execution_count": null,
      "outputs": []
    },
    {
      "cell_type": "markdown",
      "source": [
        "TAREAS\n",
        "\n",
        "1. Se necesita un sistema para un supermercado, el cual dará un 10% de descuento a las personas que compren más de $1000000 de lo contrario no dará ningún descuento, al cliente se le debe de dar el total a pagar. Condicional."
      ],
      "metadata": {
        "id": "Abq6p45YunYZ"
      }
    },
    {
      "cell_type": "code",
      "source": [
        "compra = float(input(\"Digite el valor de la compra: $\"))\n",
        "\n",
        "if compra > 1000000:\n",
        "  descu = compra * 0.10\n",
        "  total = compra - descu\n",
        "  print(\"El total del descuento = ${:,.0f} y el total a pagar es= ${:,.0f}\".format(descu, total))\n",
        "else:\n",
        "  print(\"No tiene descuento, el total a pagar es = ${:,.0f}\".format(compra))\n",
        "  print(f\"No tiene descuento, el total a pagar es = ${compra:,.0f}\")"
      ],
      "metadata": {
        "id": "mM4YQMlNusjs"
      },
      "execution_count": null,
      "outputs": []
    },
    {
      "cell_type": "markdown",
      "source": [
        "2. Se necesita un sistema que reciba tres calificaciones parciales de un alumno y en base a estas darle su promedio donde si el promedio es menor a 3.0 se le dirá que esta reprobado, en caso contrario el mensaje será aprobado. Condicional."
      ],
      "metadata": {
        "id": "F-_5w1rmu1qI"
      }
    },
    {
      "cell_type": "code",
      "source": [
        "cal1 = float(input(\"Digite la calificación 1: \"))\n",
        "cal2 = float(input(\"Digite la calificación 2: \"))\n",
        "cal3 = float(input(\"Digite la calificación 3: \"))\n",
        "\n",
        "prom = round((cal1 + cal2 + cal3)/3, 2)\n",
        "\n",
        "if prom < 3.0:\n",
        "  estado = \"Reprobado--\"\n",
        "else:\n",
        "  estado = \"Aprobado++\"\n",
        "print(f\"El promedio es= {prom} y el estado es= {estado}\")"
      ],
      "metadata": {
        "id": "ioOT9Pt3u5Xz"
      },
      "execution_count": null,
      "outputs": []
    }
  ],
  "metadata": {
    "colab": {
      "provenance": [],
      "toc_visible": true
    },
    "kernelspec": {
      "display_name": "Python 3",
      "name": "python3"
    },
    "language_info": {
      "name": "python"
    }
  },
  "nbformat": 4,
  "nbformat_minor": 0
}